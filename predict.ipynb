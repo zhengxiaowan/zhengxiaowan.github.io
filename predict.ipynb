{
 "cells": [
  {
   "cell_type": "code",
   "execution_count": 1,
   "metadata": {
    "collapsed": true
   },
   "outputs": [],
   "source": [
    "%matplotlib inline\n",
    "import matplotlib\n",
    "import seaborn as sns\n",
    "matplotlib.rcParams['savefig.dpi'] = 144"
   ]
  },
  {
   "cell_type": "code",
   "execution_count": 2,
   "metadata": {
    "collapsed": true
   },
   "outputs": [],
   "source": [
    "import pandas as pd\n",
    "import numpy as np\n",
    "import matplotlib.pyplot as plt\n",
    "import datetime\n",
    "import re"
   ]
  },
  {
   "cell_type": "code",
   "execution_count": 3,
   "metadata": {
    "collapsed": true
   },
   "outputs": [],
   "source": [
    "df17 = pd.read_csv('df17.csv')\n",
    "df16 = pd.read_csv('df16.csv')\n",
    "df15 = pd.read_csv('df15.csv')\n",
    "df14 = pd.read_csv('df14.csv')\n",
    "df13 = pd.read_csv('df13.csv')\n",
    "df12 = pd.read_csv('df12.csv')\n",
    "df11 = pd.read_csv('df11.csv')"
   ]
  },
  {
   "cell_type": "code",
   "execution_count": 6,
   "metadata": {},
   "outputs": [
    {
     "data": {
      "text/plain": [
       "agent\n",
       "N     355995\n",
       "Y    1214792\n",
       "dtype: int64"
      ]
     },
     "execution_count": 6,
     "metadata": {},
     "output_type": "execute_result"
    }
   ],
   "source": [
    "df.groupby('agent').size()"
   ]
  },
  {
   "cell_type": "code",
   "execution_count": 5,
   "metadata": {
    "collapsed": true
   },
   "outputs": [],
   "source": [
    "df=df17.append(df16).append(df15)"
   ]
  },
  {
   "cell_type": "code",
   "execution_count": 7,
   "metadata": {
    "collapsed": true
   },
   "outputs": [],
   "source": [
    "df['status']=df['status'].apply(lambda x: 1 if x=='CERTIFIED' else 0)\n",
    "df['wageunit2']=df['wageunit'].apply(lambda x: 1 if x=='Year' else 12 if x=='Month' else 52 if x=='Week' else 26 if x=='Bi-Weekly' else 2080 if x=='Hour' else None)\n",
    "df['wage2']=df['wage']*df['wageunit2']\n",
    "df['agent']=df['agent'].apply(lambda x: 1 if x=='Y' else 0)\n",
    "df=df[['status','daygap','naics','worker','soccode','wageunit2','wage2','agent']]"
   ]
  },
  {
   "cell_type": "code",
   "execution_count": 9,
   "metadata": {
    "collapsed": true
   },
   "outputs": [],
   "source": [
    "df.isnull().sum()\n",
    "df=df.dropna(axis=0, subset=[['soccode', 'wage2']])\n",
    "df=df.reset_index(drop=True)"
   ]
  },
  {
   "cell_type": "code",
   "execution_count": 10,
   "metadata": {},
   "outputs": [
    {
     "data": {
      "text/plain": [
       "status       0\n",
       "daygap       0\n",
       "naics        0\n",
       "worker       0\n",
       "soccode      0\n",
       "wageunit2    0\n",
       "wage2        0\n",
       "agent        0\n",
       "dtype: int64"
      ]
     },
     "execution_count": 10,
     "metadata": {},
     "output_type": "execute_result"
    }
   ],
   "source": [
    "df.isnull().sum()"
   ]
  },
  {
   "cell_type": "markdown",
   "metadata": {},
   "source": [
    "## Random Forest: Just to get an idea of feature importance\n",
    "#### Conclusion 1: worker and agent is not that important\n",
    "#### Conclusion 2: importance order: wage>soccode>wageunit>daygap>naics"
   ]
  },
  {
   "cell_type": "code",
   "execution_count": 11,
   "metadata": {
    "collapsed": true
   },
   "outputs": [],
   "source": [
    "# remove all string after .\n",
    "sep = '.'\n",
    "df['soccode']=df['soccode'].apply(lambda x: x.split(sep, 1)[0])\n",
    "# remove all non-numeric characters\n",
    "df['soccode']=df['soccode'].apply(lambda x: re.sub(\"[^0-9]\", \"\", x))\n",
    "# change string to float for random forest \n",
    "df['soccode']=df['soccode'].apply(lambda x: float(x.replace('-','.')) if len(x)!=0 else None)\n",
    "# remove Null results\n",
    "df=df.dropna(axis=0, subset=['soccode'])"
   ]
  },
  {
   "cell_type": "code",
   "execution_count": 12,
   "metadata": {},
   "outputs": [
    {
     "data": {
      "text/plain": [
       "((1570769, 7), (1256615,), (314154,))"
      ]
     },
     "execution_count": 12,
     "metadata": {},
     "output_type": "execute_result"
    }
   ],
   "source": [
    "from sklearn import model_selection\n",
    "from sklearn import metrics\n",
    "from sklearn.ensemble import RandomForestClassifier\n",
    "\n",
    "y=df['status']\n",
    "X=df[['daygap','naics','worker','soccode','wageunit2','wage2','agent']]\n",
    "y=y.values\n",
    "X=X.as_matrix()\n",
    "\n",
    "X_train, X_test, y_train, y_test = model_selection.train_test_split(X, y, test_size=0.2, random_state=42)\n",
    "\n",
    "X.shape, y_train.shape, y_test.shape"
   ]
  },
  {
   "cell_type": "code",
   "execution_count": 13,
   "metadata": {},
   "outputs": [
    {
     "data": {
      "text/plain": [
       "[<matplotlib.lines.Line2D at 0x7ff45e24cc50>]"
      ]
     },
     "execution_count": 13,
     "metadata": {},
     "output_type": "execute_result"
    },
    {
     "data": {
      "image/png": "[encoded data removed]",
      "text/plain": [
       "<matplotlib.figure.Figure at 0x7ff3fd2f9b50>"
      ]
     },
     "metadata": {},
     "output_type": "display_data"
    }
   ],
   "source": [
    "max_depths = range(1, 10)\n",
    "in_sample_errors1 = []\n",
    "in_sample_errors2 = []\n",
    "for max_depth in max_depths:\n",
    "    y_pred = RandomForestClassifier(max_depth=max_depth, random_state=0, class_weight=\"balanced\").fit(X_train, y_train).predict(X_train)\n",
    "    #in_sample_errors1.append(metrics.accuracy_score(y_train, y_pred))\n",
    "    in_sample_errors1.append(metrics.recall_score(y_train, y_pred))\n",
    "    in_sample_errors2.append(metrics.precision_score(y_train, y_pred))\n",
    "    \n",
    "#plt.plot(max_depths, in_sample_errors1, label='Accuracy')\n",
    "plt.plot(max_depths, in_sample_errors1, label='Recall')\n",
    "plt.plot(max_depths, in_sample_errors2, label='Precision')"
   ]
  },
  {
   "cell_type": "code",
   "execution_count": 194,
   "metadata": {},
   "outputs": [
    {
     "data": {
      "text/plain": [
       "[<matplotlib.lines.Line2D at 0x7fb082217910>]"
      ]
     },
     "execution_count": 194,
     "metadata": {},
     "output_type": "execute_result"
    },
    {
     "data": {
      "image/png": "[encoded data removed]",
      "text/plain": [
       "<matplotlib.figure.Figure at 0x7fb0825bcb90>"
      ]
     },
     "metadata": {},
     "output_type": "display_data"
    }
   ],
   "source": [
    "max_depths=range(1,21,2)\n",
    "\n",
    "test_errors1 = []\n",
    "test_errors2 = []\n",
    "for max_depth in max_depths:\n",
    "    est = RandomForestClassifier(max_depth=max_depth, random_state=0, class_weight=\"balanced\").fit(X_train, y_train)\n",
    "    y_pred = est.predict(X_test)\n",
    "    #test_errors1.append(metrics.accuracy_score(y_test, y_pred))\n",
    "    test_errors2.append(metrics.recall_score(y_test, y_pred))\n",
    "\n",
    "#plt.plot(max_depths, test_errors1, label='Accuracy')\n",
    "plt.plot(max_depths, test_errors2, label='Precision')"
   ]
  },
  {
   "cell_type": "code",
   "execution_count": 192,
   "metadata": {},
   "outputs": [
    {
     "data": {
      "text/plain": [
       "[1, 3, 5, 7, 9, 11, 13, 15, 17, 19]"
      ]
     },
     "execution_count": 192,
     "metadata": {},
     "output_type": "execute_result"
    }
   ],
   "source": [
    "range(1,21,2)"
   ]
  },
  {
   "cell_type": "code",
   "execution_count": 180,
   "metadata": {},
   "outputs": [
    {
     "data": {
      "text/plain": [
       "[1, 3, 5, 7, 9]"
      ]
     },
     "execution_count": 180,
     "metadata": {},
     "output_type": "execute_result"
    }
   ],
   "source": [
    "range(1,11,2)"
   ]
  },
  {
   "cell_type": "code",
   "execution_count": 191,
   "metadata": {},
   "outputs": [
    {
     "name": "stdout",
     "output_type": "stream",
     "text": [
      "{'max_depth': 19}\n"
     ]
    }
   ],
   "source": [
    "indices = np.random.permutation(xrange(len(y)))\n",
    "X_random_order, y_random_order = X[indices], y[indices]\n",
    "\n",
    "est = RandomForestClassifier(class_weight=\"balanced\")\n",
    "gs = model_selection.GridSearchCV(\n",
    "    est,\n",
    "    {\"max_depth\": range(1,21,2)},\n",
    "    cv=5,  # 5-fold cross validation\n",
    "    #n_jobs=2,  # run each hyperparameter in one of two parallel jobs\n",
    "    scoring='recall'\n",
    ")\n",
    "gs.fit(X_random_order, y_random_order)\n",
    "print gs.best_params_"
   ]
  },
  {
   "cell_type": "code",
   "execution_count": null,
   "metadata": {
    "collapsed": true
   },
   "outputs": [],
   "source": [
    "max_depths = range(1, 10)\n",
    "\n"
   ]
  },
  {
   "cell_type": "code",
   "execution_count": 165,
   "metadata": {},
   "outputs": [
    {
     "data": {
      "text/plain": [
       "RandomForestClassifier(bootstrap=True, class_weight=None, criterion='gini',\n",
       "            max_depth=5, max_features='auto', max_leaf_nodes=None,\n",
       "            min_impurity_split=1e-07, min_samples_leaf=1,\n",
       "            min_samples_split=2, min_weight_fraction_leaf=0.0,\n",
       "            n_estimators=10, n_jobs=1, oob_score=False, random_state=0,\n",
       "            verbose=0, warm_start=False)"
      ]
     },
     "execution_count": 165,
     "metadata": {},
     "output_type": "execute_result"
    }
   ],
   "source": [
    "y=df['status']\n",
    "X=df[['daygap','naics','worker','soccode','wageunit2','wage2','agent']]\n",
    "y=y.values\n",
    "X=X.as_matrix()\n",
    "\n",
    "from sklearn.ensemble import RandomForestClassifier\n",
    "\n",
    "clf = RandomForestClassifier(max_depth=5, random_state=0)\n",
    "clf.fit(X, y)"
   ]
  },
  {
   "cell_type": "code",
   "execution_count": 166,
   "metadata": {
    "scrolled": true
   },
   "outputs": [
    {
     "name": "stdout",
     "output_type": "stream",
     "text": [
      "[ 0.04582395  0.08261935  0.00557155  0.23517049  0.12019066  0.48530471\n",
      "  0.02531928]\n"
     ]
    }
   ],
   "source": [
    "print(clf.feature_importances_)"
   ]
  },
  {
   "cell_type": "markdown",
   "metadata": {},
   "source": [
    "## One Hot Encoding:"
   ]
  },
  {
   "cell_type": "code",
   "execution_count": 151,
   "metadata": {
    "collapsed": true
   },
   "outputs": [],
   "source": [
    "df=df17.append(df16).append(df15)\n",
    "df['status']=df['status'].apply(lambda x: 1 if x=='CERTIFIED' else 0)\n",
    "df['wageunit2']=df['wageunit'].apply(lambda x: 1 if x=='Year' else 12 if x=='Month' else 52 if x=='Week' else 26 if x=='Bi-Weekly' else 2080 if x=='Hour' else None)\n",
    "df['wage2']=df['wage']*df['wageunit2']\n",
    "df['agent']=df['agent'].apply(lambda x: 1 if x=='Y' else 0)\n",
    "df=df[['status','daygap','naics','worker','soccode','wageunit','wage2','agent']]\n",
    "df=df.dropna(axis=0, subset=[['soccode', 'wage2']])\n",
    "df=df.reset_index(drop=True)"
   ]
  },
  {
   "cell_type": "code",
   "execution_count": 152,
   "metadata": {
    "scrolled": true
   },
   "outputs": [
    {
     "data": {
      "text/html": [
       "<div>\n",
       "<style>\n",
       "    .dataframe thead tr:only-child th {\n",
       "        text-align: right;\n",
       "    }\n",
       "\n",
       "    .dataframe thead th {\n",
       "        text-align: left;\n",
       "    }\n",
       "\n",
       "    .dataframe tbody tr th {\n",
       "        vertical-align: top;\n",
       "    }\n",
       "</style>\n",
       "<table border=\"1\" class=\"dataframe\">\n",
       "  <thead>\n",
       "    <tr style=\"text-align: right;\">\n",
       "      <th></th>\n",
       "      <th>status</th>\n",
       "      <th>daygap</th>\n",
       "      <th>naics</th>\n",
       "      <th>worker</th>\n",
       "      <th>soccode</th>\n",
       "      <th>wageunit</th>\n",
       "      <th>wage2</th>\n",
       "      <th>agent</th>\n",
       "    </tr>\n",
       "  </thead>\n",
       "  <tbody>\n",
       "    <tr>\n",
       "      <th>0</th>\n",
       "      <td>1</td>\n",
       "      <td>902</td>\n",
       "      <td>541511.0</td>\n",
       "      <td>1.0</td>\n",
       "      <td>15-1132</td>\n",
       "      <td>Year</td>\n",
       "      <td>102149.0</td>\n",
       "      <td>1</td>\n",
       "    </tr>\n",
       "    <tr>\n",
       "      <th>1</th>\n",
       "      <td>1</td>\n",
       "      <td>903</td>\n",
       "      <td>541511.0</td>\n",
       "      <td>1.0</td>\n",
       "      <td>15-1134</td>\n",
       "      <td>Year</td>\n",
       "      <td>56784.0</td>\n",
       "      <td>1</td>\n",
       "    </tr>\n",
       "  </tbody>\n",
       "</table>\n",
       "</div>"
      ],
      "text/plain": [
       "   status  daygap     naics  worker  soccode wageunit     wage2  agent\n",
       "0       1     902  541511.0     1.0  15-1132     Year  102149.0      1\n",
       "1       1     903  541511.0     1.0  15-1134     Year   56784.0      1"
      ]
     },
     "execution_count": 152,
     "metadata": {},
     "output_type": "execute_result"
    }
   ],
   "source": [
    "df.head(2)"
   ]
  },
  {
   "cell_type": "code",
   "execution_count": 157,
   "metadata": {
    "collapsed": true
   },
   "outputs": [],
   "source": [
    "dfnew=df[['status','naics']]"
   ]
  },
  {
   "cell_type": "code",
   "execution_count": 158,
   "metadata": {},
   "outputs": [
    {
     "ename": "ValueError",
     "evalue": "Length of 'prefix' (1) did not match the length of the columns being encoded (0).",
     "output_type": "error",
     "traceback": [
      "\u001b[0;31m---------------------------------------------------------------------------\u001b[0m",
      "\u001b[0;31mValueError\u001b[0m                                Traceback (most recent call last)",
      "\u001b[0;32m<ipython-input-158-9309f7b15027>\u001b[0m in \u001b[0;36m<module>\u001b[0;34m()\u001b[0m\n\u001b[0;32m----> 1\u001b[0;31m \u001b[0mpd\u001b[0m\u001b[0;34m.\u001b[0m\u001b[0mget_dummies\u001b[0m\u001b[0;34m(\u001b[0m\u001b[0mdfnew\u001b[0m\u001b[0;34m,\u001b[0m \u001b[0mprefix\u001b[0m\u001b[0;34m=\u001b[0m\u001b[0;34m[\u001b[0m\u001b[0;34m'naics'\u001b[0m\u001b[0;34m]\u001b[0m\u001b[0;34m)\u001b[0m\u001b[0;34m\u001b[0m\u001b[0m\n\u001b[0m",
      "\u001b[0;32m/opt/conda/lib/python2.7/site-packages/pandas/core/reshape/reshape.pyc\u001b[0m in \u001b[0;36mget_dummies\u001b[0;34m(data, prefix, prefix_sep, dummy_na, columns, sparse, drop_first)\u001b[0m\n\u001b[1;32m   1181\u001b[0m                                                        len(columns_to_encode)))\n\u001b[1;32m   1182\u001b[0m \u001b[0;34m\u001b[0m\u001b[0m\n\u001b[0;32m-> 1183\u001b[0;31m         \u001b[0mcheck_len\u001b[0m\u001b[0;34m(\u001b[0m\u001b[0mprefix\u001b[0m\u001b[0;34m,\u001b[0m \u001b[0;34m'prefix'\u001b[0m\u001b[0;34m)\u001b[0m\u001b[0;34m\u001b[0m\u001b[0m\n\u001b[0m\u001b[1;32m   1184\u001b[0m         \u001b[0mcheck_len\u001b[0m\u001b[0;34m(\u001b[0m\u001b[0mprefix_sep\u001b[0m\u001b[0;34m,\u001b[0m \u001b[0;34m'prefix_sep'\u001b[0m\u001b[0;34m)\u001b[0m\u001b[0;34m\u001b[0m\u001b[0m\n\u001b[1;32m   1185\u001b[0m         \u001b[0;32mif\u001b[0m \u001b[0misinstance\u001b[0m\u001b[0;34m(\u001b[0m\u001b[0mprefix\u001b[0m\u001b[0;34m,\u001b[0m \u001b[0mcompat\u001b[0m\u001b[0;34m.\u001b[0m\u001b[0mstring_types\u001b[0m\u001b[0;34m)\u001b[0m\u001b[0;34m:\u001b[0m\u001b[0;34m\u001b[0m\u001b[0m\n",
      "\u001b[0;32m/opt/conda/lib/python2.7/site-packages/pandas/core/reshape/reshape.pyc\u001b[0m in \u001b[0;36mcheck_len\u001b[0;34m(item, name)\u001b[0m\n\u001b[1;32m   1179\u001b[0m                 \u001b[0;32mif\u001b[0m \u001b[0;32mnot\u001b[0m \u001b[0mlen\u001b[0m\u001b[0;34m(\u001b[0m\u001b[0mitem\u001b[0m\u001b[0;34m)\u001b[0m \u001b[0;34m==\u001b[0m \u001b[0mlen\u001b[0m\u001b[0;34m(\u001b[0m\u001b[0mcolumns_to_encode\u001b[0m\u001b[0;34m)\u001b[0m\u001b[0;34m:\u001b[0m\u001b[0;34m\u001b[0m\u001b[0m\n\u001b[1;32m   1180\u001b[0m                     raise ValueError(length_msg.format(name, len(item),\n\u001b[0;32m-> 1181\u001b[0;31m                                                        len(columns_to_encode)))\n\u001b[0m\u001b[1;32m   1182\u001b[0m \u001b[0;34m\u001b[0m\u001b[0m\n\u001b[1;32m   1183\u001b[0m         \u001b[0mcheck_len\u001b[0m\u001b[0;34m(\u001b[0m\u001b[0mprefix\u001b[0m\u001b[0;34m,\u001b[0m \u001b[0;34m'prefix'\u001b[0m\u001b[0;34m)\u001b[0m\u001b[0;34m\u001b[0m\u001b[0m\n",
      "\u001b[0;31mValueError\u001b[0m: Length of 'prefix' (1) did not match the length of the columns being encoded (0)."
     ]
    }
   ],
   "source": [
    "pd.get_dummies(dfnew, prefix=['naics'])"
   ]
  },
  {
   "cell_type": "code",
   "execution_count": null,
   "metadata": {
    "collapsed": true
   },
   "outputs": [],
   "source": []
  }
 ],
 "metadata": {
  "kernelspec": {
   "display_name": "Python 2",
   "language": "python",
   "name": "python2"
  },
  "language_info": {
   "codemirror_mode": {
    "name": "ipython",
    "version": 2
   },
   "file_extension": ".py",
   "mimetype": "text/x-python",
   "name": "python",
   "nbconvert_exporter": "python",
   "pygments_lexer": "ipython2",
   "version": "2.7.13"
  }
 },
 "nbformat": 4,
 "nbformat_minor": 2
}
